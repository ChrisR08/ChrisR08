{
  "nbformat": 4,
  "nbformat_minor": 0,
  "metadata": {
    "colab": {
      "provenance": [],
      "include_colab_link": true
    },
    "kernelspec": {
      "name": "python3",
      "display_name": "Python 3"
    }
  },
  "cells": [
    {
      "cell_type": "markdown",
      "metadata": {
        "id": "view-in-github",
        "colab_type": "text"
      },
      "source": [
        "<a href=\"https://colab.research.google.com/github/ChrisR08/ChrisR08/blob/main/Genesis_Merge_Keyword_Research_Exports.ipynb\" target=\"_parent\"><img src=\"https://colab.research.google.com/assets/colab-badge.svg\" alt=\"Open In Colab\"/></a>"
      ]
    },
    {
      "cell_type": "code",
      "metadata": {
        "id": "6kV3XL_fgmNO",
        "colab": {
          "base_uri": "https://localhost:8080/"
        },
        "outputId": "c363ff54-3bf9-40ec-fbc5-8d37fe2c65d1"
      },
      "source": [
        "from pydrive.auth import GoogleAuth\n",
        "from pydrive.drive import GoogleDrive\n",
        "from google.colab import auth\n",
        "from oauth2client.client import GoogleCredentials\n",
        "import gspread\n",
        "import pandas as pd\n",
        "import time, random\n",
        "from google.colab import files\n",
        "import glob\n",
        "from google.colab import drive\n",
        "drive.mount('/content/gdrive')"
      ],
      "execution_count": null,
      "outputs": [
        {
          "output_type": "stream",
          "text": [
            "Mounted at /content/gdrive\n"
          ],
          "name": "stdout"
        }
      ]
    },
    {
      "cell_type": "code",
      "metadata": {
        "id": "tP96fRWzksLs",
        "cellView": "form"
      },
      "source": [
        "#@title Methods\n",
        "def mergeFiles(folder_name):\n",
        "  export_files = glob.glob(\"gdrive/MyDrive/\"+ folder_name + '/*.csv')\n",
        "  tot_df_lst = []\n",
        "  for file in export_files:\n",
        "    df = pd.read_csv(file, encoding=\"utf-16\", delimiter=\"\\t\")\n",
        "    df = df[[\"Keyword\", \"Volume\", \"Difficulty\", \"CPC\"]]\n",
        "    tot_df_lst.append(df)\n",
        "  tot_df = pd.concat(tot_df_lst)\n",
        "  tot_df[\"Keyword\"] = tot_df.apply(lambda x: x[\"Keyword\"].replace('\"', '').replace(\"'\",\"\").replace(\",\", \"\"), axis=1 )\n",
        "  tot_df = tot_df.groupby(\"Keyword\").mean().reset_index()\n",
        "  tot_df.to_csv('merged_keywords.csv', index=False)\n",
        "  files.download('merged_keywords.csv')"
      ],
      "execution_count": null,
      "outputs": []
    },
    {
      "cell_type": "code",
      "metadata": {
        "id": "bK2S0-HJPrK9"
      },
      "source": [
        "folder_name = \"course exports\""
      ],
      "execution_count": null,
      "outputs": []
    },
    {
      "cell_type": "code",
      "metadata": {
        "id": "KxHl8Vx-lnME",
        "colab": {
          "base_uri": "https://localhost:8080/",
          "height": 17
        },
        "outputId": "86fac40e-685d-4657-ebbd-35f9264f4ff0"
      },
      "source": [
        "mergeFiles(folder_name)"
      ],
      "execution_count": null,
      "outputs": [
        {
          "output_type": "display_data",
          "data": {
            "application/javascript": [
              "\n",
              "    async function download(id, filename, size) {\n",
              "      if (!google.colab.kernel.accessAllowed) {\n",
              "        return;\n",
              "      }\n",
              "      const div = document.createElement('div');\n",
              "      const label = document.createElement('label');\n",
              "      label.textContent = `Downloading \"${filename}\": `;\n",
              "      div.appendChild(label);\n",
              "      const progress = document.createElement('progress');\n",
              "      progress.max = size;\n",
              "      div.appendChild(progress);\n",
              "      document.body.appendChild(div);\n",
              "\n",
              "      const buffers = [];\n",
              "      let downloaded = 0;\n",
              "\n",
              "      const channel = await google.colab.kernel.comms.open(id);\n",
              "      // Send a message to notify the kernel that we're ready.\n",
              "      channel.send({})\n",
              "\n",
              "      for await (const message of channel.messages) {\n",
              "        // Send a message to notify the kernel that we're ready.\n",
              "        channel.send({})\n",
              "        if (message.buffers) {\n",
              "          for (const buffer of message.buffers) {\n",
              "            buffers.push(buffer);\n",
              "            downloaded += buffer.byteLength;\n",
              "            progress.value = downloaded;\n",
              "          }\n",
              "        }\n",
              "      }\n",
              "      const blob = new Blob(buffers, {type: 'application/binary'});\n",
              "      const a = document.createElement('a');\n",
              "      a.href = window.URL.createObjectURL(blob);\n",
              "      a.download = filename;\n",
              "      div.appendChild(a);\n",
              "      a.click();\n",
              "      div.remove();\n",
              "    }\n",
              "  "
            ],
            "text/plain": [
              "<IPython.core.display.Javascript object>"
            ]
          },
          "metadata": {
            "tags": []
          }
        },
        {
          "output_type": "display_data",
          "data": {
            "application/javascript": [
              "download(\"download_dc1b646f-6f89-4ac4-80aa-8fb24c55f582\", \"merged_keywords.csv\", 198677)"
            ],
            "text/plain": [
              "<IPython.core.display.Javascript object>"
            ]
          },
          "metadata": {
            "tags": []
          }
        }
      ]
    }
  ]
}